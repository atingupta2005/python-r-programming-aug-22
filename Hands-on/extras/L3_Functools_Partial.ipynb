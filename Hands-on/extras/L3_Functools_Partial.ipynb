{
  "nbformat": 4,
  "nbformat_minor": 0,
  "metadata": {
    "colab": {
      "name": "L3_Functools_Partial.ipynb",
      "provenance": [],
      "collapsed_sections": []
    },
    "kernelspec": {
      "name": "python3",
      "display_name": "Python 3"
    }
  },
  "cells": [
    {
      "cell_type": "code",
      "metadata": {
        "id": "L3U_3nnsJ-DY"
      },
      "source": [
        "from functools import partial\n",
        "\n",
        "def multiply(x,y):\n",
        "   return x * y"
      ],
      "execution_count": null,
      "outputs": []
    },
    {
      "cell_type": "code",
      "metadata": {
        "id": "qnXFe-GULFoo"
      },
      "source": [
        "multiply = partial(multiply,y=5)"
      ],
      "execution_count": null,
      "outputs": []
    },
    {
      "cell_type": "code",
      "source": [
        "multiply(x=50)"
      ],
      "metadata": {
        "colab": {
          "base_uri": "https://localhost:8080/"
        },
        "id": "MbR-aqHY4yIl",
        "outputId": "70ab2944-0731-48f7-e92f-f30c4e09b725"
      },
      "execution_count": null,
      "outputs": [
        {
          "output_type": "execute_result",
          "data": {
            "text/plain": [
              "250"
            ]
          },
          "metadata": {},
          "execution_count": 13
        }
      ]
    },
    {
      "cell_type": "code",
      "metadata": {
        "id": "4qbQqXrCOvIz"
      },
      "source": [
        "multiply = partial(lambda x,y: x*y,  y=6)"
      ],
      "execution_count": null,
      "outputs": []
    },
    {
      "cell_type": "code",
      "metadata": {
        "id": "6xQT5-B4Ogwy",
        "colab": {
          "base_uri": "https://localhost:8080/"
        },
        "outputId": "117ff5f7-a24c-49e6-8f68-2ba1d5a556b9"
      },
      "source": [
        "multiply(x=23)"
      ],
      "execution_count": null,
      "outputs": [
        {
          "output_type": "execute_result",
          "data": {
            "text/plain": [
              "115"
            ]
          },
          "metadata": {},
          "execution_count": 14
        }
      ]
    },
    {
      "cell_type": "code",
      "metadata": {
        "id": "j43VIjiGOUQi"
      },
      "source": [
        "l1 = [23,45,66]"
      ],
      "execution_count": null,
      "outputs": []
    },
    {
      "cell_type": "code",
      "metadata": {
        "id": "16E1nhQ_LHib"
      },
      "source": [
        "import functools\n",
        "multipy_new = partial(multiply,2)\n"
      ],
      "execution_count": null,
      "outputs": []
    },
    {
      "cell_type": "code",
      "metadata": {
        "id": "3Y2Klh_GrJ7u",
        "colab": {
          "base_uri": "https://localhost:8080/",
          "height": 34
        },
        "outputId": "2adf3c8b-f284-44eb-b525-005fb25b070c"
      },
      "source": [
        "multiply_new(34)"
      ],
      "execution_count": null,
      "outputs": [
        {
          "output_type": "execute_result",
          "data": {
            "text/plain": [
              "170"
            ]
          },
          "metadata": {
            "tags": []
          },
          "execution_count": 12
        }
      ]
    },
    {
      "cell_type": "code",
      "metadata": {
        "id": "GkuyY1_yrJXt"
      },
      "source": [
        "m1 = map(multiply_new,l1)"
      ],
      "execution_count": null,
      "outputs": []
    },
    {
      "cell_type": "code",
      "metadata": {
        "id": "90rGWpsnPJWP",
        "colab": {
          "base_uri": "https://localhost:8080/",
          "height": 34
        },
        "outputId": "64807711-f39a-4e6c-baaa-cb94b8605d7e"
      },
      "source": [
        "list(m1)"
      ],
      "execution_count": null,
      "outputs": [
        {
          "output_type": "execute_result",
          "data": {
            "text/plain": [
              "[115, 225, 330]"
            ]
          },
          "metadata": {
            "tags": []
          },
          "execution_count": 16
        }
      ]
    },
    {
      "cell_type": "code",
      "metadata": {
        "id": "zNWeLU0GO_z0"
      },
      "source": [
        "import functools\n",
        "\n",
        "m1 = map(partial(lambda x,y: x*y,2),l1)"
      ],
      "execution_count": null,
      "outputs": []
    },
    {
      "cell_type": "code",
      "metadata": {
        "id": "bgGoTiDOLUBa",
        "colab": {
          "base_uri": "https://localhost:8080/",
          "height": 34
        },
        "outputId": "4a22d711-a986-494e-ae9c-0c4cf1412784"
      },
      "source": [
        "list(m1)"
      ],
      "execution_count": null,
      "outputs": [
        {
          "output_type": "execute_result",
          "data": {
            "text/plain": [
              "[46, 90, 132]"
            ]
          },
          "metadata": {
            "tags": []
          },
          "execution_count": 18
        }
      ]
    },
    {
      "cell_type": "code",
      "metadata": {
        "id": "_HA6VcQJLQMB"
      },
      "source": [
        ""
      ],
      "execution_count": null,
      "outputs": []
    }
  ]
}