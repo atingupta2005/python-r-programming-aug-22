{
 "cells": [
  {
   "cell_type": "markdown",
   "id": "a82cab52",
   "metadata": {},
   "source": [
    "# Reading data from XML"
   ]
  },
  {
   "cell_type": "code",
   "execution_count": 1,
   "id": "c42f8c53",
   "metadata": {},
   "outputs": [],
   "source": [
    "import pandas as pd"
   ]
  },
  {
   "cell_type": "code",
   "execution_count": 3,
   "id": "974cffed",
   "metadata": {},
   "outputs": [],
   "source": [
    "df = pd.read_xml(\"example.xml\")"
   ]
  },
  {
   "cell_type": "code",
   "execution_count": 4,
   "id": "65b2549b",
   "metadata": {},
   "outputs": [
    {
     "name": "stdout",
     "output_type": "stream",
     "text": [
      "    name             major  age\n",
      "0  Alice  Computer Science   20\n",
      "1    Bob        Philosophy   22\n",
      "2   Mary           Biology   21\n"
     ]
    }
   ],
   "source": [
    "print(df)"
   ]
  },
  {
   "cell_type": "markdown",
   "id": "16ef93b9",
   "metadata": {},
   "source": [
    "## Alternative Structure of an XML Object"
   ]
  },
  {
   "cell_type": "markdown",
   "id": "33320fd6",
   "metadata": {},
   "source": [
    "- Not every XML document is suitable to be transformed into a Pandas data frame."
   ]
  },
  {
   "cell_type": "code",
   "execution_count": 5,
   "id": "cd58f102",
   "metadata": {},
   "outputs": [],
   "source": [
    "xml = \"\"\"<?xml version='1.0' encoding='utf-8'?>\n",
    "<data>\n",
    "    <student name = \"Alice\" major = \"Computer Science\" age = \"20\"/>\n",
    "    <student name = \"Bob\" major = \"Philosophy\" age = \"22\"/>\n",
    "    <student name = \"Mary\" major = \"Biology\" age = \"21\"/>\n",
    "</data>\"\"\""
   ]
  },
  {
   "cell_type": "code",
   "execution_count": 9,
   "id": "b4127132",
   "metadata": {},
   "outputs": [
    {
     "name": "stdout",
     "output_type": "stream",
     "text": [
      "    name             major  age\n",
      "0  Alice  Computer Science   20\n",
      "1    Bob        Philosophy   22\n",
      "2   Mary           Biology   21\n"
     ]
    }
   ],
   "source": [
    "df = pd.read_xml(xml, xpath=\".//student\")\n",
    "print(df)"
   ]
  },
  {
   "cell_type": "code",
   "execution_count": 10,
   "id": "26cecb68",
   "metadata": {},
   "outputs": [
    {
     "name": "stdout",
     "output_type": "stream",
     "text": [
      "    name             major  age\n",
      "0  Alice  Computer Science   20\n",
      "1    Bob        Philosophy   22\n",
      "2   Mary           Biology   21\n"
     ]
    }
   ],
   "source": [
    "df = pd.read_xml(xml)\n",
    "print(df)"
   ]
  },
  {
   "cell_type": "markdown",
   "id": "80263248",
   "metadata": {},
   "source": [
    "## Rendering a Pandas data frame to an XML object"
   ]
  },
  {
   "cell_type": "code",
   "execution_count": 12,
   "id": "bf226b6e",
   "metadata": {},
   "outputs": [
    {
     "name": "stdout",
     "output_type": "stream",
     "text": [
      "<?xml version='1.0' encoding='utf-8'?>\n",
      "<data>\n",
      "  <row>\n",
      "    <index>0</index>\n",
      "    <name>Alice</name>\n",
      "    <major>Computer Science</major>\n",
      "    <age>20</age>\n",
      "  </row>\n",
      "  <row>\n",
      "    <index>1</index>\n",
      "    <name>Bob</name>\n",
      "    <major>Philosophy</major>\n",
      "    <age>22</age>\n",
      "  </row>\n",
      "  <row>\n",
      "    <index>2</index>\n",
      "    <name>Mary</name>\n",
      "    <major>Biology</major>\n",
      "    <age>21</age>\n",
      "  </row>\n",
      "</data>\n"
     ]
    }
   ],
   "source": [
    "print(df.to_xml())"
   ]
  },
  {
   "cell_type": "code",
   "execution_count": 13,
   "id": "cd392754",
   "metadata": {},
   "outputs": [
    {
     "name": "stdout",
     "output_type": "stream",
     "text": [
      "<?xml version='1.0' encoding='utf-8'?>\n",
      "<data>\n",
      "  <student>\n",
      "    <name>Alice</name>\n",
      "    <major>Computer Science</major>\n",
      "    <age>20</age>\n",
      "  </student>\n",
      "  <student>\n",
      "    <name>Bob</name>\n",
      "    <major>Philosophy</major>\n",
      "    <age>22</age>\n",
      "  </student>\n",
      "  <student>\n",
      "    <name>Mary</name>\n",
      "    <major>Biology</major>\n",
      "    <age>21</age>\n",
      "  </student>\n",
      "</data>\n"
     ]
    }
   ],
   "source": [
    "print(df.to_xml(row_name = \"student\", index=False))"
   ]
  },
  {
   "cell_type": "code",
   "execution_count": null,
   "id": "c053d10b",
   "metadata": {},
   "outputs": [],
   "source": [
    "data = df.to_xml(row_name = \"student\", index=False)\n",
    "\n",
    "with open(\"new_xml.xml\", \"w\") as file:\n",
    "    file.write(data)"
   ]
  }
 ],
 "metadata": {
  "kernelspec": {
   "display_name": "Python 3 (ipykernel)",
   "language": "python",
   "name": "python3"
  },
  "language_info": {
   "codemirror_mode": {
    "name": "ipython",
    "version": 3
   },
   "file_extension": ".py",
   "mimetype": "text/x-python",
   "name": "python",
   "nbconvert_exporter": "python",
   "pygments_lexer": "ipython3",
   "version": "3.9.7"
  }
 },
 "nbformat": 4,
 "nbformat_minor": 5
}
