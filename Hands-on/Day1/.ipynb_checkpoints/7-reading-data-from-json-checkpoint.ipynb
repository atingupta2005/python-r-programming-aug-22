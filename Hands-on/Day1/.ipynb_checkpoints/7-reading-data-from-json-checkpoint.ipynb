{
 "cells": [
  {
   "cell_type": "code",
   "execution_count": 1,
   "id": "63c7621f",
   "metadata": {},
   "outputs": [],
   "source": [
    "patients = {\n",
    "         \"Name\":{\"0\":\"John\",\"1\":\"Nick\",\"2\":\"Ali\",\"3\":\"Joseph\"},\n",
    "         \"Gender\":{\"0\":\"Male\",\"1\":\"Male\",\"2\":\"Female\",\"3\":\"Male\"},\n",
    "         \"Nationality\":{\"0\":\"UK\",\"1\":\"French\",\"2\":\"USA\",\"3\":\"Brazil\"},\n",
    "         \"Age\" :{\"0\":10,\"1\":25,\"2\":35,\"3\":29}\n",
    "}"
   ]
  },
  {
   "cell_type": "code",
   "execution_count": 2,
   "id": "c2e8db0d",
   "metadata": {},
   "outputs": [],
   "source": [
    "cars = [\n",
    "    {\"Name\":\"Honda\", \"Price\": 10000, \"Model\":2005, \"Power\": 1300},\n",
    "    {\"Name\":\"Toyota\", \"Price\": 12000, \"Model\":2010, \"Power\": 1600},\n",
    "    {\"Name\":\"Audi\", \"Price\": 25000, \"Model\":2017, \"Power\": 1800},\n",
    "    {\"Name\":\"Ford\", \"Price\": 28000, \"Model\":2009, \"Power\": 1200},\n",
    "         \n",
    "]"
   ]
  },
  {
   "cell_type": "code",
   "execution_count": 6,
   "id": "173811bf",
   "metadata": {},
   "outputs": [],
   "source": [
    "import json\n",
    "import pandas as pd\n",
    "with open('patients.json', 'w') as f:\n",
    "    json.dump(patients, f)\n",
    "    \n",
    "with open('cars.json', 'w') as f:\n",
    "    json.dump(cars, f)  "
   ]
  },
  {
   "cell_type": "code",
   "execution_count": 7,
   "id": "efbe3c3b",
   "metadata": {},
   "outputs": [
    {
     "data": {
      "text/html": [
       "<div>\n",
       "<style scoped>\n",
       "    .dataframe tbody tr th:only-of-type {\n",
       "        vertical-align: middle;\n",
       "    }\n",
       "\n",
       "    .dataframe tbody tr th {\n",
       "        vertical-align: top;\n",
       "    }\n",
       "\n",
       "    .dataframe thead th {\n",
       "        text-align: right;\n",
       "    }\n",
       "</style>\n",
       "<table border=\"1\" class=\"dataframe\">\n",
       "  <thead>\n",
       "    <tr style=\"text-align: right;\">\n",
       "      <th></th>\n",
       "      <th>Name</th>\n",
       "      <th>Gender</th>\n",
       "      <th>Nationality</th>\n",
       "      <th>Age</th>\n",
       "    </tr>\n",
       "  </thead>\n",
       "  <tbody>\n",
       "    <tr>\n",
       "      <th>0</th>\n",
       "      <td>John</td>\n",
       "      <td>Male</td>\n",
       "      <td>UK</td>\n",
       "      <td>10</td>\n",
       "    </tr>\n",
       "    <tr>\n",
       "      <th>1</th>\n",
       "      <td>Nick</td>\n",
       "      <td>Male</td>\n",
       "      <td>French</td>\n",
       "      <td>25</td>\n",
       "    </tr>\n",
       "    <tr>\n",
       "      <th>2</th>\n",
       "      <td>Ali</td>\n",
       "      <td>Female</td>\n",
       "      <td>USA</td>\n",
       "      <td>35</td>\n",
       "    </tr>\n",
       "    <tr>\n",
       "      <th>3</th>\n",
       "      <td>Joseph</td>\n",
       "      <td>Male</td>\n",
       "      <td>Brazil</td>\n",
       "      <td>29</td>\n",
       "    </tr>\n",
       "  </tbody>\n",
       "</table>\n",
       "</div>"
      ],
      "text/plain": [
       "     Name  Gender Nationality  Age\n",
       "0    John    Male          UK   10\n",
       "1    Nick    Male      French   25\n",
       "2     Ali  Female         USA   35\n",
       "3  Joseph    Male      Brazil   29"
      ]
     },
     "execution_count": 7,
     "metadata": {},
     "output_type": "execute_result"
    }
   ],
   "source": [
    "patients_df = pd.read_json('patients.json')\n",
    "patients_df.head()"
   ]
  },
  {
   "cell_type": "code",
   "execution_count": 9,
   "id": "522498fc",
   "metadata": {},
   "outputs": [
    {
     "data": {
      "text/html": [
       "<div>\n",
       "<style scoped>\n",
       "    .dataframe tbody tr th:only-of-type {\n",
       "        vertical-align: middle;\n",
       "    }\n",
       "\n",
       "    .dataframe tbody tr th {\n",
       "        vertical-align: top;\n",
       "    }\n",
       "\n",
       "    .dataframe thead th {\n",
       "        text-align: right;\n",
       "    }\n",
       "</style>\n",
       "<table border=\"1\" class=\"dataframe\">\n",
       "  <thead>\n",
       "    <tr style=\"text-align: right;\">\n",
       "      <th></th>\n",
       "      <th>Name</th>\n",
       "      <th>Price</th>\n",
       "      <th>Model</th>\n",
       "      <th>Power</th>\n",
       "    </tr>\n",
       "  </thead>\n",
       "  <tbody>\n",
       "    <tr>\n",
       "      <th>0</th>\n",
       "      <td>Honda</td>\n",
       "      <td>10000</td>\n",
       "      <td>2005</td>\n",
       "      <td>1300</td>\n",
       "    </tr>\n",
       "    <tr>\n",
       "      <th>1</th>\n",
       "      <td>Toyota</td>\n",
       "      <td>12000</td>\n",
       "      <td>2010</td>\n",
       "      <td>1600</td>\n",
       "    </tr>\n",
       "    <tr>\n",
       "      <th>2</th>\n",
       "      <td>Audi</td>\n",
       "      <td>25000</td>\n",
       "      <td>2017</td>\n",
       "      <td>1800</td>\n",
       "    </tr>\n",
       "    <tr>\n",
       "      <th>3</th>\n",
       "      <td>Ford</td>\n",
       "      <td>28000</td>\n",
       "      <td>2009</td>\n",
       "      <td>1200</td>\n",
       "    </tr>\n",
       "  </tbody>\n",
       "</table>\n",
       "</div>"
      ],
      "text/plain": [
       "     Name  Price  Model  Power\n",
       "0   Honda  10000   2005   1300\n",
       "1  Toyota  12000   2010   1600\n",
       "2    Audi  25000   2017   1800\n",
       "3    Ford  28000   2009   1200"
      ]
     },
     "execution_count": 9,
     "metadata": {},
     "output_type": "execute_result"
    }
   ],
   "source": [
    "cars_df = pd.read_json('cars.json')\n",
    "cars_df.head()"
   ]
  }
 ],
 "metadata": {
  "kernelspec": {
   "display_name": "Python 3 (ipykernel)",
   "language": "python",
   "name": "python3"
  },
  "language_info": {
   "codemirror_mode": {
    "name": "ipython",
    "version": 3
   },
   "file_extension": ".py",
   "mimetype": "text/x-python",
   "name": "python",
   "nbconvert_exporter": "python",
   "pygments_lexer": "ipython3",
   "version": "3.9.7"
  }
 },
 "nbformat": 4,
 "nbformat_minor": 5
}
