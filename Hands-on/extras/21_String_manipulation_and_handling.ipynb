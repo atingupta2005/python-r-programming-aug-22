{
  "nbformat": 4,
  "nbformat_minor": 0,
  "metadata": {
    "colab": {
      "name": "21. String manipulation and handling.ipynb",
      "provenance": [],
      "collapsed_sections": []
    },
    "kernelspec": {
      "display_name": "Python 3",
      "language": "python",
      "name": "python3"
    },
    "language_info": {
      "codemirror_mode": {
        "name": "ipython",
        "version": 3
      },
      "file_extension": ".py",
      "mimetype": "text/x-python",
      "name": "python",
      "nbconvert_exporter": "python",
      "pygments_lexer": "ipython3",
      "version": "3.6.9"
    }
  },
  "cells": [
    {
      "cell_type": "code",
      "metadata": {
        "id": "9OcNd0iJBtov",
        "colab": {
          "base_uri": "https://localhost:8080/"
        },
        "outputId": "649189a2-e138-48a8-a7fb-2504ded4e4f8"
      },
      "source": [
        "# Different ways to initialize strings in python\n",
        "A=\"Good\"\n",
        "\n",
        "B='Morning'\n",
        "\n",
        "C=\"\"\"Students\"\"\"\n",
        "\n",
        "D='''From \n",
        "    Atin''' #can be multiline\n",
        "\n",
        "print(A,B,C,D)"
      ],
      "execution_count": 1,
      "outputs": [
        {
          "output_type": "stream",
          "name": "stdout",
          "text": [
            "Good Morning Students From \n",
            "    Atin\n"
          ]
        }
      ]
    },
    {
      "cell_type": "code",
      "metadata": {
        "id": "ddX-IlGPRpou",
        "colab": {
          "base_uri": "https://localhost:8080/"
        },
        "outputId": "a2ee2d45-d74f-4e51-84d5-f9a6328c9b1e"
      },
      "source": [
        "A = ' Atin \"Gupta\"s '\n",
        "print(A)"
      ],
      "execution_count": 2,
      "outputs": [
        {
          "output_type": "stream",
          "name": "stdout",
          "text": [
            " Atin \"Gupta\"s \n"
          ]
        }
      ]
    },
    {
      "cell_type": "code",
      "metadata": {
        "id": "rlocQ7fYSCdd",
        "colab": {
          "base_uri": "https://localhost:8080/"
        },
        "outputId": "1a3f87e0-b75d-49f1-e30f-06af6f47789b"
      },
      "source": [
        "A = \"\"\" Atin 'Gupta\"s \"\"\"\n",
        "print(A)"
      ],
      "execution_count": 3,
      "outputs": [
        {
          "output_type": "stream",
          "name": "stdout",
          "text": [
            " Atin 'Gupta\"s \n"
          ]
        }
      ]
    },
    {
      "cell_type": "code",
      "metadata": {
        "id": "ORsmCEx5Bto6",
        "colab": {
          "base_uri": "https://localhost:8080/"
        },
        "outputId": "37dd31ee-58fe-48e8-a0b4-2358411de580"
      },
      "source": [
        "# There are various escape sequences provided in python that can be used to display quotes, newline, Backslash\n",
        "A='Hello!\\Atin'\n",
        "print(A)\n",
        "B=input('Your name please? ')\n",
        "print('Hi \\'%s\\''%B)\n",
        "\n",
        "print(\"C:\\\\Python32\\\\Lib\")"
      ],
      "execution_count": 4,
      "outputs": [
        {
          "output_type": "stream",
          "name": "stdout",
          "text": [
            "Hello!\\Atin\n",
            "Your name please? Atin\n",
            "Hi 'Atin'\n",
            "C:\\Python32\\Lib\n"
          ]
        }
      ]
    },
    {
      "cell_type": "code",
      "metadata": {
        "id": "yZBn_gk0BtpB",
        "colab": {
          "base_uri": "https://localhost:8080/"
        },
        "outputId": "026b2d91-7633-4d80-9871-58906b658584"
      },
      "source": [
        "# Now takes names and surnames of all her friends as input, seperated by ,\n",
        "Names=input('Names:').split(',')\n",
        "print(Names)"
      ],
      "execution_count": 5,
      "outputs": [
        {
          "output_type": "stream",
          "name": "stdout",
          "text": [
            "Names:Atin,Gupta\n",
            "['Atin', 'Gupta']\n"
          ]
        }
      ]
    },
    {
      "cell_type": "code",
      "metadata": {
        "id": "sBCqx1pJBtpK",
        "colab": {
          "base_uri": "https://localhost:8080/"
        },
        "outputId": "6389a5b2-555f-4cad-8475-5436f2a58532"
      },
      "source": [
        "#wait a second! He didn't capitalize first letter of some names\n",
        "print(Names[1].capitalize())"
      ],
      "execution_count": 6,
      "outputs": [
        {
          "output_type": "stream",
          "name": "stdout",
          "text": [
            "Gupta\n"
          ]
        }
      ]
    },
    {
      "cell_type": "code",
      "metadata": {
        "id": "cswD4PQ_BtpR",
        "colab": {
          "base_uri": "https://localhost:8080/"
        },
        "outputId": "28c8b009-48ab-4723-f9ff-8ef87dfe697f"
      },
      "source": [
        "Surnames=input('Surnames: ').split(',')\n",
        "print(Surnames)"
      ],
      "execution_count": 7,
      "outputs": [
        {
          "output_type": "stream",
          "name": "stdout",
          "text": [
            "Surnames: Gupta\n",
            "['Gupta']\n"
          ]
        }
      ]
    },
    {
      "cell_type": "code",
      "metadata": {
        "id": "fkO5pqGzBtpY",
        "colab": {
          "base_uri": "https://localhost:8080/",
          "height": 188
        },
        "outputId": "c083bd5b-e193-4f01-9249-0f67632b7b68"
      },
      "source": [
        "# The the full name of second friend will be\n",
        "print(Names[1].capitalize()+' '+Surnames[1].capitalize()) "
      ],
      "execution_count": 8,
      "outputs": [
        {
          "output_type": "error",
          "ename": "IndexError",
          "evalue": "ignored",
          "traceback": [
            "\u001b[0;31m---------------------------------------------------------------------------\u001b[0m",
            "\u001b[0;31mIndexError\u001b[0m                                Traceback (most recent call last)",
            "\u001b[0;32m<ipython-input-8-3871733ce2de>\u001b[0m in \u001b[0;36m<module>\u001b[0;34m()\u001b[0m\n\u001b[1;32m      1\u001b[0m \u001b[0;31m# The the full name of second friend will be\u001b[0m\u001b[0;34m\u001b[0m\u001b[0;34m\u001b[0m\u001b[0;34m\u001b[0m\u001b[0m\n\u001b[0;32m----> 2\u001b[0;31m \u001b[0mprint\u001b[0m\u001b[0;34m(\u001b[0m\u001b[0mNames\u001b[0m\u001b[0;34m[\u001b[0m\u001b[0;36m1\u001b[0m\u001b[0;34m]\u001b[0m\u001b[0;34m.\u001b[0m\u001b[0mcapitalize\u001b[0m\u001b[0;34m(\u001b[0m\u001b[0;34m)\u001b[0m\u001b[0;34m+\u001b[0m\u001b[0;34m' '\u001b[0m\u001b[0;34m+\u001b[0m\u001b[0mSurnames\u001b[0m\u001b[0;34m[\u001b[0m\u001b[0;36m1\u001b[0m\u001b[0;34m]\u001b[0m\u001b[0;34m.\u001b[0m\u001b[0mcapitalize\u001b[0m\u001b[0;34m(\u001b[0m\u001b[0;34m)\u001b[0m\u001b[0;34m)\u001b[0m\u001b[0;34m\u001b[0m\u001b[0;34m\u001b[0m\u001b[0m\n\u001b[0m",
            "\u001b[0;31mIndexError\u001b[0m: list index out of range"
          ]
        }
      ]
    },
    {
      "cell_type": "code",
      "metadata": {
        "id": "vlBxu4BsBtpf"
      },
      "source": [
        "# Let us see some more functions on strings\n",
        "quote1='''Happiness can be defined, in part at least, \n",
        "        as the fruit of the desire and ability to sacrifice \n",
        "        what we want now for what we want eventually\n",
        "     '''\n",
        "quote2='Sadness is but a wall between two gardens'\n",
        "print('Quote 1 Startswith \\'Happiness\\': ',quote1.startswith('Happiness'))\n",
        "print('Quote 2 Startswith \\'Happiness\\': ', quote2.startswith('Happiness'))\n",
        "print('Quote 1 Endstwith \\'gardens\\': ', quote1.endswith('gardens'))\n",
        "print('Quote 2 Endsswith \\'gardens\\': ', quote2.endswith('gardens'))"
      ],
      "execution_count": null,
      "outputs": []
    },
    {
      "cell_type": "code",
      "source": [
        "def myfunc():\n",
        "  \"Its my function\"\n",
        "  pass"
      ],
      "metadata": {
        "id": "bPXCMJURL5gh"
      },
      "execution_count": null,
      "outputs": []
    },
    {
      "cell_type": "code",
      "source": [
        "myfunc()"
      ],
      "metadata": {
        "id": "PZPQe7xMMC6o"
      },
      "execution_count": null,
      "outputs": []
    },
    {
      "cell_type": "code",
      "metadata": {
        "id": "qvaqMKMFUOOD"
      },
      "source": [
        "dir(quote1)"
      ],
      "execution_count": null,
      "outputs": []
    },
    {
      "cell_type": "code",
      "metadata": {
        "id": "Nhwre_Z-5T_a"
      },
      "source": [
        "quote1"
      ],
      "execution_count": null,
      "outputs": []
    },
    {
      "cell_type": "code",
      "metadata": {
        "id": "y7pEsaG65XWW"
      },
      "source": [
        "quote1[::-1]"
      ],
      "execution_count": null,
      "outputs": []
    },
    {
      "cell_type": "code",
      "metadata": {
        "id": "dDA4_ewJ5UcG"
      },
      "source": [
        ""
      ],
      "execution_count": null,
      "outputs": []
    },
    {
      "cell_type": "code",
      "metadata": {
        "id": "tNxEcuB8Btpm"
      },
      "source": [
        "print(f'index of \\'fruit\\': {quote1.index(\"fruit\")}')\n",
        "print(quote1[60:65]) #slicing in strings\n",
        "print(quote1[60:])\n",
        "print(quote1[:60])\n",
        "print(quote1[::-1]) # reverse of string\n",
        "print(quote1[60:-16])"
      ],
      "execution_count": null,
      "outputs": []
    },
    {
      "cell_type": "code",
      "metadata": {
        "id": "zw9eAj5UBtpt"
      },
      "source": [
        "quote1.replace('fruit','result')\n",
        "print(quote1) #no change why? Strings are immutable we need to assign to new one\n",
        "quote3=quote1.replace('fruit','result')\n",
        "print(quote3)"
      ],
      "execution_count": null,
      "outputs": []
    },
    {
      "cell_type": "code",
      "metadata": {
        "id": "UpxhOhARBtpz"
      },
      "source": [
        "# Find out whether the given string is a number or text\n",
        "# if its text, change the case\n",
        "\n",
        "text=input('String:')\n",
        "print(text.isnumeric())\n",
        "print(text.isalpha())"
      ],
      "execution_count": null,
      "outputs": []
    },
    {
      "cell_type": "code",
      "metadata": {
        "id": "GMv-4BQSBtp5"
      },
      "source": [
        "print(text.isupper())\n",
        "print(text.islower())\n",
        "print(text.istitle())\n"
      ],
      "execution_count": null,
      "outputs": []
    },
    {
      "cell_type": "code",
      "metadata": {
        "id": "5mhv1OEkBtqB"
      },
      "source": [
        "#upper will change the case to uppercase, lower for lowercase and swapcase function will change case of every character\n",
        "print(text.upper())"
      ],
      "execution_count": null,
      "outputs": []
    },
    {
      "cell_type": "code",
      "metadata": {
        "id": "YZjQ6tLS6AUh"
      },
      "source": [
        "# Format Function\n",
        "print(f\"my age is: {age} and name is :{name}\")\n",
        "\n",
        "# Format Function\n",
        "print(\"my age is: {1} and name is :{0}\".format(age, name))"
      ],
      "execution_count": null,
      "outputs": []
    },
    {
      "cell_type": "code",
      "metadata": {
        "id": "9JjB4142BtqJ"
      },
      "source": [
        "# Format Function\n",
        "print(\"my age is: {0} and name is :{1}\".format(input(\"age \"),input(\"name \")))"
      ],
      "execution_count": null,
      "outputs": []
    },
    {
      "cell_type": "code",
      "metadata": {
        "id": "Nn7wYipIV4nV"
      },
      "source": [
        "# Format Function\n",
        "print(\"my age is: {1} and name is :{0}\".format(input(\"age \"),input(\"name \")))"
      ],
      "execution_count": null,
      "outputs": []
    },
    {
      "cell_type": "code",
      "metadata": {
        "id": "P1PZa8V0BtqP"
      },
      "source": [
        "# Encode and Decode Function\n",
        "## SENDER SIDE\n",
        "str1='Atin'\n",
        "print(type(str1))\n"
      ],
      "execution_count": null,
      "outputs": []
    },
    {
      "cell_type": "code",
      "metadata": {
        "id": "6pAruWIaV_hs"
      },
      "source": [
        "str2=str1.encode('utf-8')\n",
        "print(str2)\n",
        "print(type(str2))\n",
        "\n"
      ],
      "execution_count": null,
      "outputs": []
    },
    {
      "cell_type": "code",
      "metadata": {
        "id": "vMMs23NnWPwx"
      },
      "source": [
        "str3 = b\"Atin\""
      ],
      "execution_count": null,
      "outputs": []
    },
    {
      "cell_type": "code",
      "metadata": {
        "id": "cdBwtCthWSov"
      },
      "source": [
        "type(str3)"
      ],
      "execution_count": null,
      "outputs": []
    },
    {
      "cell_type": "code",
      "metadata": {
        "id": "tkvXrTpLWVA1"
      },
      "source": [
        "print(str3)"
      ],
      "execution_count": null,
      "outputs": []
    },
    {
      "cell_type": "code",
      "metadata": {
        "id": "RX5pIZLdC_IB"
      },
      "source": [
        "## RECEIVER SIDE\n",
        "result=str2.decode('utf-8')\n",
        "print(result)\n",
        "print(type(result))\n"
      ],
      "execution_count": null,
      "outputs": []
    },
    {
      "cell_type": "code",
      "metadata": {
        "id": "jPGoRB-XBtqW"
      },
      "source": [
        "## Find vs Index\n",
        "print('Gupta x'.find('x'))  #returns -1 if missing\n",
        "print('Gupta x'.index('x'))  # returns value error if missing\n",
        "print('Gupta'.index('x'))  # returns value error if missing"
      ],
      "execution_count": null,
      "outputs": []
    },
    {
      "cell_type": "code",
      "metadata": {
        "id": "l7po5kaH53hO"
      },
      "source": [
        "# Given a string of odd length greater 7, return a string made of the middle three chars of a given String\n",
        "\n",
        "#Case 1:\n",
        "#str1 = \"JhonDipPeta\"\n",
        "#Expected Output:\n",
        "#Dip\n",
        "\n",
        "#Case 2:\n",
        "#str2 = \"JaSonAy\"\n",
        "#Expected Output:\n",
        "#Son"
      ],
      "execution_count": null,
      "outputs": []
    },
    {
      "cell_type": "code",
      "metadata": {
        "id": "94VL89xY5_xG"
      },
      "source": [
        ""
      ],
      "execution_count": null,
      "outputs": []
    },
    {
      "cell_type": "code",
      "metadata": {
        "id": "_x-qiGAA6Cew"
      },
      "source": [
        "#Given 2 strings, s1 and s2, create a new string by appending s2 in the middle of s1\n",
        "\n",
        "# Given:\n",
        "# s1 = \"Ault\"\n",
        "# s2 = \"Kelly\"\n",
        "# Expected Output:\n",
        "# AuKellylt"
      ],
      "execution_count": null,
      "outputs": []
    },
    {
      "cell_type": "code",
      "metadata": {
        "id": "8_6R8e3k6HbA"
      },
      "source": [
        ""
      ],
      "execution_count": null,
      "outputs": []
    },
    {
      "cell_type": "code",
      "metadata": {
        "id": "MNZBrTFk6HmE"
      },
      "source": [
        ""
      ],
      "execution_count": null,
      "outputs": []
    },
    {
      "cell_type": "code",
      "metadata": {
        "id": "avsrnDRQ6Vwz"
      },
      "source": [
        ""
      ],
      "execution_count": null,
      "outputs": []
    },
    {
      "cell_type": "code",
      "metadata": {
        "id": "-dkZEVK15-zz"
      },
      "source": [
        ""
      ],
      "execution_count": null,
      "outputs": []
    }
  ]
}